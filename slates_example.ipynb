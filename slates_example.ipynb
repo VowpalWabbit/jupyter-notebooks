{
 "cells": [
  {
   "cell_type": "code",
   "execution_count": 8,
   "metadata": {},
   "outputs": [],
   "source": [
    "from vowpalwabbit import pyvw\n",
    "import matplotlib.pyplot as plt\n",
    "import pandas as pd\n",
    "import random\n",
    "import math\n",
    "import numpy as np\n",
    "\n",
    "NUM_ITERATIONS = 2500\n",
    "shared_contexts = [\"corporate\", \"trade\"]\n",
    "torso_items = [\"tshirt\", \"buttonupshirt\", \"highvis\"]\n",
    "legs_items = [\"workpants\", \"formalpants\", \"shorts\"]\n",
    "feet_items = [\"formalshoes\", \"runners\", \"flipflops\", \"boots\"]"
   ]
  },
  {
   "cell_type": "markdown",
   "metadata": {},
   "source": [
    "# Scenario: Outfit optimization\n",
    "- Slots are different clothing types\n",
    "- Actions are the individual pieces of clothing for each slot\n",
    "\n",
    "![slates_scenario.png](./slates_scenario.png)"
   ]
  },
  {
   "cell_type": "markdown",
   "metadata": {},
   "source": [
    "# Reward function\n",
    "The chosen action and context is supplied to the this to determine the reward. Noise is injected to make the learning problem harder and reflect how in reality there may be variation in how the reward function reacts, possibly because of missing information."
   ]
  },
  {
   "cell_type": "code",
   "execution_count": 9,
   "metadata": {},
   "outputs": [],
   "source": [
    "def noise(center, stddev=0.075):\n",
    "    return np.random.normal(loc = center, scale=0.075)\n",
    "\n",
    "def reward_function(shared_context, torso_index, legs_index, feet_index):\n",
    "    if shared_context == \"corporate\":\n",
    "        torso_values = [noise(0.3), noise(0.5), noise(0.1)]\n",
    "        legs_val = [noise(0.1), noise(0.5), noise(0.3)]    \n",
    "        feet_values = [noise(0.4), noise(0.3), noise(0.05), noise(0.1)]\n",
    "    if shared_context == \"trade\":\n",
    "        torso_values = [noise(0.15), noise(0.2), noise(0.4)]\n",
    "        legs_val = [noise(0.5), noise(0.2), noise(0.35)]    \n",
    "        feet_values = [noise(0.2), noise(0.2), noise(0.1), noise(0.5)]\n",
    "    \n",
    "    return torso_values[torso_index] + legs_val[legs_index] + feet_values[feet_index]\n",
    "    "
   ]
  },
  {
   "cell_type": "markdown",
   "metadata": {},
   "source": [
    "# Slates"
   ]
  },
  {
   "cell_type": "code",
   "execution_count": 10,
   "metadata": {},
   "outputs": [],
   "source": [
    "def generate_slates_text_format(shared_context):\n",
    "    return [\n",
    "       f\"slates shared |User {shared_context}\",\n",
    "        \"slates action 0 |Action tshirt\", \n",
    "        \"slates action 0 |Action buttonupshirt\", \n",
    "        \"slates action 0 |Action highvis\", \n",
    "        \"slates action 1 |Action workpants\", \n",
    "        \"slates action 1 |Action formalpants\", \n",
    "        \"slates action 1 |Action shorts\", \n",
    "        \"slates action 2 |Action formalshoes\", \n",
    "        \"slates action 2 |Action runners\", \n",
    "        \"slates action 2 |Action flipflops\", \n",
    "        \"slates action 2 |Action boots\", \n",
    "        \"slates slot |Slot torso\", \n",
    "        \"slates slot |Slot legs\",\n",
    "        \"slates slot |Slot feet\"\n",
    "    ]\n",
    "\n",
    "def generate_slates_text_format_with_label(shared_context, reward, chosen_torso_index, chosen_torso_prob, chosen_legs_index, chosen_legs_prob, chosen_feet_index, chosen_feet_prob):\n",
    "    return [\n",
    "       f\"slates shared {-1*reward} |User {shared_context}\",\n",
    "        \"slates action 0 |Action tshirt\", \n",
    "        \"slates action 0 |Action buttonupshirt\", \n",
    "        \"slates action 0 |Action highvis\", \n",
    "        \"slates action 1 |Action workpants\", \n",
    "        \"slates action 1 |Action formalpants\", \n",
    "        \"slates action 1 |Action shorts\", \n",
    "        \"slates action 2 |Action formalshoes\", \n",
    "        \"slates action 2 |Action runners\", \n",
    "        \"slates action 2 |Action flipflops\", \n",
    "        \"slates action 2 |Action boots\", \n",
    "        f\"slates slot {chosen_torso_index}:{chosen_torso_prob} |Slot torso\", \n",
    "        f\"slates slot {chosen_legs_index}:{chosen_legs_prob} |Slot legs\",\n",
    "        f\"slates slot {chosen_feet_index}:{chosen_feet_prob} |Slot feet\"\n",
    "\n",
    "    ]"
   ]
  },
  {
   "cell_type": "code",
   "execution_count": 11,
   "metadata": {},
   "outputs": [],
   "source": [
    "slates_vw = pyvw.vw(\"--slates --epsilon 0.2 --interactions SA UAS US UA -l 0.05 --power_t 0\")\n",
    "\n",
    "slates_rewards = []\n",
    "for _ in range(NUM_ITERATIONS):\n",
    "    shared_context = random.choice(shared_contexts)\n",
    "    slates_prediction = slates_vw.predict(generate_slates_text_format(shared_context))\n",
    "    torso_index, torso_prob = slates_prediction[0][0]\n",
    "    legs_index, legs_prob = slates_prediction[1][0]    \n",
    "    feet_index, feet_prob = slates_prediction[2][0]\n",
    "    reward = reward_function(shared_context, torso_index, legs_index, feet_index)\n",
    "    slates_rewards.append(reward)\n",
    "    slates_vw.learn(generate_slates_text_format_with_label(shared_context,reward, torso_index, torso_prob, legs_index, legs_prob, feet_index, feet_prob))\n",
    "\n",
    "slates_vw.finish()"
   ]
  },
  {
   "cell_type": "markdown",
   "metadata": {},
   "source": [
    "# Contextual Bandit\n",
    "This involves expanding out *all* possible combinations."
   ]
  },
  {
   "cell_type": "code",
   "execution_count": 12,
   "metadata": {},
   "outputs": [],
   "source": [
    "def generate_combinations(shared_context, torso_items, legs_items, feet_items):\n",
    "    examples = [f\"shared |User {shared_context}\"]\n",
    "    descriptions = []\n",
    "    for i, torso in enumerate(torso_items):\n",
    "        for j, legs in enumerate(legs_items):\n",
    "            for k, feet in enumerate(feet_items):\n",
    "                examples.append(f\"|Action torso={torso} legs={legs} feet={feet}\")\n",
    "                descriptions.append((i,j,k))\n",
    "                \n",
    "    return examples, descriptions\n",
    "\n",
    "def sample_custom_pmf(pmf):\n",
    "    total = sum(pmf)\n",
    "    scale = 1 / total\n",
    "    pmf = [x * scale for x in pmf]\n",
    "    draw = random.random()\n",
    "    sum_prob = 0.0\n",
    "    for index, prob in enumerate(pmf):\n",
    "        sum_prob += prob\n",
    "        if(sum_prob > draw):\n",
    "            return index, prob\n"
   ]
  },
  {
   "cell_type": "code",
   "execution_count": 13,
   "metadata": {},
   "outputs": [],
   "source": [
    "cb_vw = pyvw.vw(\"--cb_explore_adf --epsilon 0.2 --interactions AA AU AAU -l 0.05 --power_t 0\")\n",
    "\n",
    "cb_rewards = []\n",
    "for _ in range(NUM_ITERATIONS):\n",
    "    shared_context = random.choice(shared_contexts)\n",
    "    examples, indices = generate_combinations(shared_context, torso_items, legs_items, feet_items)\n",
    "    cb_prediction = cb_vw.predict(examples)\n",
    "    chosen_index, prob = sample_custom_pmf(cb_prediction)\n",
    "    torso_index, legs_index, feet_index = indices[chosen_index]\n",
    "    reward = reward_function(shared_context, torso_index, legs_index, feet_index)\n",
    "    cb_rewards.append(reward)\n",
    "    examples[chosen_index + 1]= f\"0:{-1*reward}:{prob} {examples[chosen_index + 1]}\"\n",
    "    cb_vw.learn(examples)\n",
    "\n",
    "cb_vw.finish()"
   ]
  },
  {
   "cell_type": "markdown",
   "metadata": {},
   "source": [
    "# Comparison"
   ]
  },
  {
   "cell_type": "code",
   "execution_count": 14,
   "metadata": {},
   "outputs": [
    {
     "data": {
      "text/plain": [
       "<matplotlib.legend.Legend at 0x7f97fa2a4d30>"
      ]
     },
     "execution_count": 14,
     "metadata": {},
     "output_type": "execute_result"
    },
    {
     "data": {
      "image/png": "[encoded data removed]",
      "text/plain": [
       "<Figure size 432x288 with 1 Axes>"
      ]
     },
     "metadata": {
      "needs_background": "light"
     },
     "output_type": "display_data"
    }
   ],
   "source": [
    "plt.plot(pd.Series(cb_rewards).expanding().mean())\n",
    "plt.plot(pd.Series(slates_rewards).expanding().mean())\n",
    "plt.legend(['cb', 'slates'])\n"
   ]
  }
 ],
 "metadata": {
  "kernelspec": {
   "display_name": "Python 3",
   "language": "python",
   "name": "python3"
  },
  "language_info": {
   "codemirror_mode": {
    "name": "ipython",
    "version": 3
   },
   "file_extension": ".py",
   "mimetype": "text/x-python",
   "name": "python",
   "nbconvert_exporter": "python",
   "pygments_lexer": "ipython3",
   "version": "3.8.2"
  }
 },
 "nbformat": 4,
 "nbformat_minor": 4
}
