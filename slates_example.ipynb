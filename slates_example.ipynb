{
 "cells": [
  {
   "cell_type": "code",
   "execution_count": 135,
   "metadata": {},
   "outputs": [],
   "source": [
    "from vowpalwabbit import pyvw\n",
    "import matplotlib.pyplot as plt\n",
    "import pandas as pd\n",
    "import random\n",
    "import math\n",
    "\n",
    "NUM_ITERATIONS = 250"
   ]
  },
  {
   "cell_type": "markdown",
   "metadata": {},
   "source": [
    "# Reward function\n",
    "The chosen action is supplied to the this to determine the reward. In reality the reward can also depends on the shared context, but for this simple example it does not."
   ]
  },
  {
   "cell_type": "code",
   "execution_count": 136,
   "metadata": {},
   "outputs": [],
   "source": [
    "def reward_function(color_index, font_index):\n",
    "    color_values = [0.3, 0.5, 0.6, 0.2]\n",
    "    font_values = [0.1, 0.4, 0.05]\n",
    "    return color_values[color_index] + font_values[font_index]\n",
    "    "
   ]
  },
  {
   "cell_type": "markdown",
   "metadata": {},
   "source": [
    "# Slates"
   ]
  },
  {
   "cell_type": "code",
   "execution_count": 137,
   "metadata": {},
   "outputs": [],
   "source": [
    "def generate_slates_text_format():\n",
    "    return [\n",
    "        \"slates shared | location=US\",\n",
    "        \"slates action 0 |Action black\", \n",
    "        \"slates action 0 |Action grey\", \n",
    "        \"slates action 0 |Action green\", \n",
    "        \"slates action 0 |Action yellow\", \n",
    "        \"slates action 1 |Action serif\", \n",
    "        \"slates action 1 |Action sans-serif\", \n",
    "        \"slates action 1 |Action comic-sans\", \n",
    "        \"slates slot |Slot color\", \n",
    "        \"slates slot |Slot font\"\n",
    "    ]\n",
    "\n",
    "def generate_slates_text_format_with_label(reward, chosen_color_index, chosen_color_prob, chosen_font_index, chosen_font_prob):\n",
    "    return [\n",
    "        f\"slates shared {-1*reward} | location=US\",\n",
    "        \"slates action 0 |Action black\", \n",
    "        \"slates action 0 |Action grey\", \n",
    "        \"slates action 0 |Action green\", \n",
    "        \"slates action 0 |Action yellow\", \n",
    "        \"slates action 1 |Action serif\", \n",
    "        \"slates action 1 |Action sans-serif\", \n",
    "        \"slates action 1 |Action comic-sans\",  \n",
    "        f\"slates slot {chosen_color_index}:{chosen_color_prob} |Slot color\", \n",
    "        f\"slates slot {chosen_font_index}:{chosen_font_prob} |Slot font\"\n",
    "    ]"
   ]
  },
  {
   "cell_type": "code",
   "execution_count": 138,
   "metadata": {},
   "outputs": [],
   "source": [
    "slates_vw = pyvw.vw(\"--slates --epsilon 0.2 -q SA -l 0.05 --power_t 0\")\n",
    "\n",
    "slates_rewards = []\n",
    "for _ in range(NUM_ITERATIONS):\n",
    "    slates_prediction = slates_vw.predict(generate_slates_text_format())\n",
    "    color_index, color_prob = slates_prediction[0][0]\n",
    "    font_index, font_prob = slates_prediction[1][0]\n",
    "    reward = reward_function(color_index, font_index)\n",
    "    slates_rewards.append(reward)\n",
    "    slates_vw.learn(generate_slates_text_format_with_label(reward, color_index, color_prob, font_index, font_prob))\n",
    "\n",
    "slates_vw.finish()"
   ]
  },
  {
   "cell_type": "markdown",
   "metadata": {},
   "source": [
    "# Contextual Bandit\n",
    "This involves expanding out *all* possible combinations."
   ]
  },
  {
   "cell_type": "code",
   "execution_count": 139,
   "metadata": {},
   "outputs": [],
   "source": [
    "def generate_cb_text_format():\n",
    "    return [\n",
    "        \"shared | location=US\",\n",
    "        \"|Action color=black font=serif\",\n",
    "        \"|Action color=grey font=serif\",\n",
    "        \"|Action color=green font=serif\",\n",
    "        \"|Action color=yellow font=serif\",\n",
    "        \"|Action color=black font=sans-serif\",\n",
    "        \"|Action color=grey font=sans-serif\",\n",
    "        \"|Action color=green font=sans-serif\",\n",
    "        \"|Action color=yellow font=sans-serif\",\n",
    "        \"|Action color=black font=comic-sans\",\n",
    "        \"|Action color=grey font=comic-sans\",\n",
    "        \"|Action color=green font=comic-sans\",\n",
    "        \"|Action color=yellow font=comic-sans\",\n",
    "    ]\n",
    "\n",
    "def chosen_action_to_chosen_color_and_font(chosen_action_index):\n",
    "    chosen_color = chosen_action_index % 4\n",
    "    chosen_font = math.floor(chosen_action_index / 4 )\n",
    "    return chosen_color, chosen_font\n",
    "    \n",
    "def generate_cb_text_format_with_label(reward, chosen_action_index, prob):\n",
    "    action_list =  [\n",
    "        \"shared | location=US\",\n",
    "        \"|Action color=black font=serif\",\n",
    "        \"|Action color=grey font=serif\",\n",
    "        \"|Action color=green font=serif\",\n",
    "        \"|Action color=yellow font=serif\",\n",
    "        \"|Action color=black font=sans-serif\",\n",
    "        \"|Action color=grey font=sans-serif\",\n",
    "        \"|Action color=green font=sans-serif\",\n",
    "        \"|Action color=yellow font=sans-serif\",\n",
    "        \"|Action color=black font=comic-sans\",\n",
    "        \"|Action color=grey font=comic-sans\",\n",
    "        \"|Action color=green font=comic-sans\",\n",
    "        \"|Action color=yellow font=comic-sans\",\n",
    "    ]\n",
    "        \n",
    "    action_list[chosen_action_index + 1]= f\"0:{-1*reward}:{prob} {action_list[chosen_action_index + 1]}\"\n",
    "    return action_list\n",
    "        \n",
    "def sample_custom_pmf(pmf):\n",
    "    total = sum(pmf)\n",
    "    scale = 1 / total\n",
    "    pmf = [x * scale for x in pmf]\n",
    "    draw = random.random()\n",
    "    sum_prob = 0.0\n",
    "    for index, prob in enumerate(pmf):\n",
    "        sum_prob += prob\n",
    "        if(sum_prob > draw):\n",
    "            return index, prob"
   ]
  },
  {
   "cell_type": "code",
   "execution_count": 140,
   "metadata": {},
   "outputs": [],
   "source": [
    "cb_vw = pyvw.vw(\"--cb_explore_adf --epsilon 0.2 -q AA -l 0.05 --power_t 0\")\n",
    "\n",
    "cb_rewards = []\n",
    "for _ in range(NUM_ITERATIONS):\n",
    "    cb_prediction = cb_vw.predict(generate_cb_text_format())\n",
    "    chosen_index, prob = sample_custom_pmf(cb_prediction)\n",
    "    color_index, font_index  = chosen_action_to_chosen_color_and_font(chosen_index)\n",
    "    reward = reward_function(color_index, font_index)\n",
    "    cb_rewards.append(reward)\n",
    "    cb_vw.learn(generate_cb_text_format_with_label(reward, chosen_index, prob))\n",
    "\n",
    "cb_vw.finish()"
   ]
  },
  {
   "cell_type": "markdown",
   "metadata": {},
   "source": [
    "# Comparison"
   ]
  },
  {
   "cell_type": "code",
   "execution_count": 141,
   "metadata": {},
   "outputs": [
    {
     "data": {
      "text/plain": [
       "<matplotlib.legend.Legend at 0x7f698e7dcd60>"
      ]
     },
     "execution_count": 141,
     "metadata": {},
     "output_type": "execute_result"
    },
    {
     "data": {
      "image/png": "[encoded data removed]",
      "text/plain": [
       "<Figure size 432x288 with 1 Axes>"
      ]
     },
     "metadata": {
      "needs_background": "light"
     },
     "output_type": "display_data"
    }
   ],
   "source": [
    "plt.plot(pd.Series(cb_rewards).expanding().mean())\n",
    "plt.plot(pd.Series(slates_rewards).expanding().mean())\n",
    "plt.legend(['cb', 'slates'])\n"
   ]
  },
  {
   "cell_type": "code",
   "execution_count": null,
   "metadata": {},
   "outputs": [],
   "source": []
  },
  {
   "cell_type": "code",
   "execution_count": null,
   "metadata": {},
   "outputs": [],
   "source": []
  }
 ],
 "metadata": {
  "kernelspec": {
   "display_name": "Python 3",
   "language": "python",
   "name": "python3"
  },
  "language_info": {
   "codemirror_mode": {
    "name": "ipython",
    "version": 3
   },
   "file_extension": ".py",
   "mimetype": "text/x-python",
   "name": "python",
   "nbconvert_exporter": "python",
   "pygments_lexer": "ipython3",
   "version": "3.8.2"
  }
 },
 "nbformat": 4,
 "nbformat_minor": 4
}
